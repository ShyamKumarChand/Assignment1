{
  "nbformat": 4,
  "nbformat_minor": 0,
  "metadata": {
    "colab": {
      "name": "Html.ipynb",
      "provenance": [],
      "collapsed_sections": [],
      "authorship_tag": "ABX9TyN76oguaTJMNSnOXzCGNnRn",
      "include_colab_link": true
    },
    "kernelspec": {
      "name": "python3",
      "display_name": "Python 3"
    }
  },
  "cells": [
    {
      "cell_type": "markdown",
      "metadata": {
        "id": "view-in-github",
        "colab_type": "text"
      },
      "source": [
        "<a href=\"https://colab.research.google.com/github/ShyamKumarChand/Assignment1/blob/main/Html.ipynb\" target=\"_parent\"><img src=\"https://colab.research.google.com/assets/colab-badge.svg\" alt=\"Open In Colab\"/></a>"
      ]
    },
    {
      "cell_type": "code",
      "metadata": {
        "id": "O4I4tTkKsVd6"
      },
      "source": [
        "import pandas as pd"
      ],
      "execution_count": 1,
      "outputs": []
    },
    {
      "cell_type": "code",
      "metadata": {
        "id": "Gm-tBpojsXKI"
      },
      "source": [
        "url = \"http://www.basketball-reference.com/leagues/NBA_2015_totals.html\"\r\n",
        "BB_data = pd.read_html(url)"
      ],
      "execution_count": 2,
      "outputs": []
    },
    {
      "cell_type": "code",
      "metadata": {
        "colab": {
          "base_uri": "https://localhost:8080/",
          "height": 238
        },
        "id": "oWfcH2DhsfQU",
        "outputId": "ee85817b-068f-4eb1-811b-3096c8535ca4"
      },
      "source": [
        "BB_data[0].head()"
      ],
      "execution_count": 3,
      "outputs": [
        {
          "output_type": "execute_result",
          "data": {
            "text/html": [
              "<div>\n",
              "<style scoped>\n",
              "    .dataframe tbody tr th:only-of-type {\n",
              "        vertical-align: middle;\n",
              "    }\n",
              "\n",
              "    .dataframe tbody tr th {\n",
              "        vertical-align: top;\n",
              "    }\n",
              "\n",
              "    .dataframe thead th {\n",
              "        text-align: right;\n",
              "    }\n",
              "</style>\n",
              "<table border=\"1\" class=\"dataframe\">\n",
              "  <thead>\n",
              "    <tr style=\"text-align: right;\">\n",
              "      <th></th>\n",
              "      <th>Rk</th>\n",
              "      <th>Player</th>\n",
              "      <th>Pos</th>\n",
              "      <th>Age</th>\n",
              "      <th>Tm</th>\n",
              "      <th>G</th>\n",
              "      <th>GS</th>\n",
              "      <th>MP</th>\n",
              "      <th>FG</th>\n",
              "      <th>FGA</th>\n",
              "      <th>FG%</th>\n",
              "      <th>3P</th>\n",
              "      <th>3PA</th>\n",
              "      <th>3P%</th>\n",
              "      <th>2P</th>\n",
              "      <th>2PA</th>\n",
              "      <th>2P%</th>\n",
              "      <th>eFG%</th>\n",
              "      <th>FT</th>\n",
              "      <th>FTA</th>\n",
              "      <th>FT%</th>\n",
              "      <th>ORB</th>\n",
              "      <th>DRB</th>\n",
              "      <th>TRB</th>\n",
              "      <th>AST</th>\n",
              "      <th>STL</th>\n",
              "      <th>BLK</th>\n",
              "      <th>TOV</th>\n",
              "      <th>PF</th>\n",
              "      <th>PTS</th>\n",
              "    </tr>\n",
              "  </thead>\n",
              "  <tbody>\n",
              "    <tr>\n",
              "      <th>0</th>\n",
              "      <td>1</td>\n",
              "      <td>Quincy Acy</td>\n",
              "      <td>PF</td>\n",
              "      <td>24</td>\n",
              "      <td>NYK</td>\n",
              "      <td>68</td>\n",
              "      <td>22</td>\n",
              "      <td>1287</td>\n",
              "      <td>152</td>\n",
              "      <td>331</td>\n",
              "      <td>.459</td>\n",
              "      <td>18</td>\n",
              "      <td>60</td>\n",
              "      <td>.300</td>\n",
              "      <td>134</td>\n",
              "      <td>271</td>\n",
              "      <td>.494</td>\n",
              "      <td>.486</td>\n",
              "      <td>76</td>\n",
              "      <td>97</td>\n",
              "      <td>.784</td>\n",
              "      <td>79</td>\n",
              "      <td>222</td>\n",
              "      <td>301</td>\n",
              "      <td>68</td>\n",
              "      <td>27</td>\n",
              "      <td>22</td>\n",
              "      <td>60</td>\n",
              "      <td>147</td>\n",
              "      <td>398</td>\n",
              "    </tr>\n",
              "    <tr>\n",
              "      <th>1</th>\n",
              "      <td>2</td>\n",
              "      <td>Jordan Adams</td>\n",
              "      <td>SG</td>\n",
              "      <td>20</td>\n",
              "      <td>MEM</td>\n",
              "      <td>30</td>\n",
              "      <td>0</td>\n",
              "      <td>248</td>\n",
              "      <td>35</td>\n",
              "      <td>86</td>\n",
              "      <td>.407</td>\n",
              "      <td>10</td>\n",
              "      <td>25</td>\n",
              "      <td>.400</td>\n",
              "      <td>25</td>\n",
              "      <td>61</td>\n",
              "      <td>.410</td>\n",
              "      <td>.465</td>\n",
              "      <td>14</td>\n",
              "      <td>23</td>\n",
              "      <td>.609</td>\n",
              "      <td>9</td>\n",
              "      <td>19</td>\n",
              "      <td>28</td>\n",
              "      <td>16</td>\n",
              "      <td>16</td>\n",
              "      <td>7</td>\n",
              "      <td>14</td>\n",
              "      <td>24</td>\n",
              "      <td>94</td>\n",
              "    </tr>\n",
              "    <tr>\n",
              "      <th>2</th>\n",
              "      <td>3</td>\n",
              "      <td>Steven Adams</td>\n",
              "      <td>C</td>\n",
              "      <td>21</td>\n",
              "      <td>OKC</td>\n",
              "      <td>70</td>\n",
              "      <td>67</td>\n",
              "      <td>1771</td>\n",
              "      <td>217</td>\n",
              "      <td>399</td>\n",
              "      <td>.544</td>\n",
              "      <td>0</td>\n",
              "      <td>2</td>\n",
              "      <td>.000</td>\n",
              "      <td>217</td>\n",
              "      <td>397</td>\n",
              "      <td>.547</td>\n",
              "      <td>.544</td>\n",
              "      <td>103</td>\n",
              "      <td>205</td>\n",
              "      <td>.502</td>\n",
              "      <td>199</td>\n",
              "      <td>324</td>\n",
              "      <td>523</td>\n",
              "      <td>66</td>\n",
              "      <td>38</td>\n",
              "      <td>86</td>\n",
              "      <td>99</td>\n",
              "      <td>222</td>\n",
              "      <td>537</td>\n",
              "    </tr>\n",
              "    <tr>\n",
              "      <th>3</th>\n",
              "      <td>4</td>\n",
              "      <td>Jeff Adrien</td>\n",
              "      <td>PF</td>\n",
              "      <td>28</td>\n",
              "      <td>MIN</td>\n",
              "      <td>17</td>\n",
              "      <td>0</td>\n",
              "      <td>215</td>\n",
              "      <td>19</td>\n",
              "      <td>44</td>\n",
              "      <td>.432</td>\n",
              "      <td>0</td>\n",
              "      <td>0</td>\n",
              "      <td>NaN</td>\n",
              "      <td>19</td>\n",
              "      <td>44</td>\n",
              "      <td>.432</td>\n",
              "      <td>.432</td>\n",
              "      <td>22</td>\n",
              "      <td>38</td>\n",
              "      <td>.579</td>\n",
              "      <td>23</td>\n",
              "      <td>54</td>\n",
              "      <td>77</td>\n",
              "      <td>15</td>\n",
              "      <td>4</td>\n",
              "      <td>9</td>\n",
              "      <td>9</td>\n",
              "      <td>30</td>\n",
              "      <td>60</td>\n",
              "    </tr>\n",
              "    <tr>\n",
              "      <th>4</th>\n",
              "      <td>5</td>\n",
              "      <td>Arron Afflalo</td>\n",
              "      <td>SG</td>\n",
              "      <td>29</td>\n",
              "      <td>TOT</td>\n",
              "      <td>78</td>\n",
              "      <td>72</td>\n",
              "      <td>2502</td>\n",
              "      <td>375</td>\n",
              "      <td>884</td>\n",
              "      <td>.424</td>\n",
              "      <td>118</td>\n",
              "      <td>333</td>\n",
              "      <td>.354</td>\n",
              "      <td>257</td>\n",
              "      <td>551</td>\n",
              "      <td>.466</td>\n",
              "      <td>.491</td>\n",
              "      <td>167</td>\n",
              "      <td>198</td>\n",
              "      <td>.843</td>\n",
              "      <td>27</td>\n",
              "      <td>220</td>\n",
              "      <td>247</td>\n",
              "      <td>129</td>\n",
              "      <td>41</td>\n",
              "      <td>7</td>\n",
              "      <td>116</td>\n",
              "      <td>167</td>\n",
              "      <td>1035</td>\n",
              "    </tr>\n",
              "  </tbody>\n",
              "</table>\n",
              "</div>"
            ],
            "text/plain": [
              "  Rk         Player Pos Age   Tm   G  GS  ...  TRB  AST STL BLK  TOV   PF   PTS\n",
              "0  1     Quincy Acy  PF  24  NYK  68  22  ...  301   68  27  22   60  147   398\n",
              "1  2   Jordan Adams  SG  20  MEM  30   0  ...   28   16  16   7   14   24    94\n",
              "2  3   Steven Adams   C  21  OKC  70  67  ...  523   66  38  86   99  222   537\n",
              "3  4    Jeff Adrien  PF  28  MIN  17   0  ...   77   15   4   9    9   30    60\n",
              "4  5  Arron Afflalo  SG  29  TOT  78  72  ...  247  129  41   7  116  167  1035\n",
              "\n",
              "[5 rows x 30 columns]"
            ]
          },
          "metadata": {
            "tags": []
          },
          "execution_count": 3
        }
      ]
    },
    {
      "cell_type": "code",
      "metadata": {
        "colab": {
          "base_uri": "https://localhost:8080/"
        },
        "id": "ywBQcGeKsrZP",
        "outputId": "ea052ce2-c733-4fbc-ef13-29c5d2ddfd8c"
      },
      "source": [
        "BB_data[0].columns"
      ],
      "execution_count": 4,
      "outputs": [
        {
          "output_type": "execute_result",
          "data": {
            "text/plain": [
              "Index(['Rk', 'Player', 'Pos', 'Age', 'Tm', 'G', 'GS', 'MP', 'FG', 'FGA', 'FG%',\n",
              "       '3P', '3PA', '3P%', '2P', '2PA', '2P%', 'eFG%', 'FT', 'FTA', 'FT%',\n",
              "       'ORB', 'DRB', 'TRB', 'AST', 'STL', 'BLK', 'TOV', 'PF', 'PTS'],\n",
              "      dtype='object')"
            ]
          },
          "metadata": {
            "tags": []
          },
          "execution_count": 4
        }
      ]
    },
    {
      "cell_type": "code",
      "metadata": {
        "id": "coEaoKTesw_Y"
      },
      "source": [
        "titanic_train = pd.read_csv(\"https://gist.githubusercontent.com/michhar/2dfd2de0d4f8727f873422c5d959fff5/raw/ff414a1bcfcba32481e4d4e8db578e55872a2ca1/titanic.csv\",\r\n",
        "                           sep='\\t')"
      ],
      "execution_count": 5,
      "outputs": []
    },
    {
      "cell_type": "code",
      "metadata": {
        "colab": {
          "base_uri": "https://localhost:8080/"
        },
        "id": "7MpZnQN6s3I5",
        "outputId": "d3e1a30d-c25d-4ab9-b66e-f5b1e3cb89ee"
      },
      "source": [
        "type(titanic_train)"
      ],
      "execution_count": 6,
      "outputs": [
        {
          "output_type": "execute_result",
          "data": {
            "text/plain": [
              "pandas.core.frame.DataFrame"
            ]
          },
          "metadata": {
            "tags": []
          },
          "execution_count": 6
        }
      ]
    },
    {
      "cell_type": "code",
      "metadata": {
        "colab": {
          "base_uri": "https://localhost:8080/",
          "height": 111
        },
        "id": "EOayQwbks-l3",
        "outputId": "1bdfc03d-6c1c-423a-c1d2-c72a36bee70e"
      },
      "source": [
        "titanic_train[['Parch','Survived']].head(2)"
      ],
      "execution_count": 7,
      "outputs": [
        {
          "output_type": "execute_result",
          "data": {
            "text/html": [
              "<div>\n",
              "<style scoped>\n",
              "    .dataframe tbody tr th:only-of-type {\n",
              "        vertical-align: middle;\n",
              "    }\n",
              "\n",
              "    .dataframe tbody tr th {\n",
              "        vertical-align: top;\n",
              "    }\n",
              "\n",
              "    .dataframe thead th {\n",
              "        text-align: right;\n",
              "    }\n",
              "</style>\n",
              "<table border=\"1\" class=\"dataframe\">\n",
              "  <thead>\n",
              "    <tr style=\"text-align: right;\">\n",
              "      <th></th>\n",
              "      <th>Parch</th>\n",
              "      <th>Survived</th>\n",
              "    </tr>\n",
              "  </thead>\n",
              "  <tbody>\n",
              "    <tr>\n",
              "      <th>0</th>\n",
              "      <td>0</td>\n",
              "      <td>0</td>\n",
              "    </tr>\n",
              "    <tr>\n",
              "      <th>1</th>\n",
              "      <td>0</td>\n",
              "      <td>1</td>\n",
              "    </tr>\n",
              "  </tbody>\n",
              "</table>\n",
              "</div>"
            ],
            "text/plain": [
              "   Parch  Survived\n",
              "0      0         0\n",
              "1      0         1"
            ]
          },
          "metadata": {
            "tags": []
          },
          "execution_count": 7
        }
      ]
    },
    {
      "cell_type": "code",
      "metadata": {
        "colab": {
          "base_uri": "https://localhost:8080/"
        },
        "id": "r4MBFO_xtCjT",
        "outputId": "506a7d67-e6d6-46f0-ae19-1e1597b07e21"
      },
      "source": [
        "titanic_train.dtypes"
      ],
      "execution_count": 8,
      "outputs": [
        {
          "output_type": "execute_result",
          "data": {
            "text/plain": [
              "PassengerId      int64\n",
              "Survived         int64\n",
              "Pclass           int64\n",
              "Name            object\n",
              "Sex             object\n",
              "Age            float64\n",
              "SibSp            int64\n",
              "Parch            int64\n",
              "Ticket          object\n",
              "Fare           float64\n",
              "Cabin           object\n",
              "Embarked        object\n",
              "dtype: object"
            ]
          },
          "metadata": {
            "tags": []
          },
          "execution_count": 8
        }
      ]
    },
    {
      "cell_type": "code",
      "metadata": {
        "id": "1RqW6KhvtINT"
      },
      "source": [
        "pd.options.display.max_rows = 6"
      ],
      "execution_count": 9,
      "outputs": []
    },
    {
      "cell_type": "code",
      "metadata": {
        "colab": {
          "base_uri": "https://localhost:8080/",
          "height": 295
        },
        "id": "mszZpBtVtNw4",
        "outputId": "905b6ca8-e302-4ee3-88d8-562dc08441ac"
      },
      "source": [
        "titanic_train"
      ],
      "execution_count": 10,
      "outputs": [
        {
          "output_type": "execute_result",
          "data": {
            "text/html": [
              "<div>\n",
              "<style scoped>\n",
              "    .dataframe tbody tr th:only-of-type {\n",
              "        vertical-align: middle;\n",
              "    }\n",
              "\n",
              "    .dataframe tbody tr th {\n",
              "        vertical-align: top;\n",
              "    }\n",
              "\n",
              "    .dataframe thead th {\n",
              "        text-align: right;\n",
              "    }\n",
              "</style>\n",
              "<table border=\"1\" class=\"dataframe\">\n",
              "  <thead>\n",
              "    <tr style=\"text-align: right;\">\n",
              "      <th></th>\n",
              "      <th>PassengerId</th>\n",
              "      <th>Survived</th>\n",
              "      <th>Pclass</th>\n",
              "      <th>Name</th>\n",
              "      <th>Sex</th>\n",
              "      <th>Age</th>\n",
              "      <th>SibSp</th>\n",
              "      <th>Parch</th>\n",
              "      <th>Ticket</th>\n",
              "      <th>Fare</th>\n",
              "      <th>Cabin</th>\n",
              "      <th>Embarked</th>\n",
              "    </tr>\n",
              "  </thead>\n",
              "  <tbody>\n",
              "    <tr>\n",
              "      <th>0</th>\n",
              "      <td>1</td>\n",
              "      <td>0</td>\n",
              "      <td>3</td>\n",
              "      <td>Braund, Mr. Owen Harris</td>\n",
              "      <td>male</td>\n",
              "      <td>22.0</td>\n",
              "      <td>1</td>\n",
              "      <td>0</td>\n",
              "      <td>A/5 21171</td>\n",
              "      <td>7.2500</td>\n",
              "      <td>NaN</td>\n",
              "      <td>S</td>\n",
              "    </tr>\n",
              "    <tr>\n",
              "      <th>1</th>\n",
              "      <td>2</td>\n",
              "      <td>1</td>\n",
              "      <td>1</td>\n",
              "      <td>Cumings, Mrs. John Bradley (Florence Briggs Th...</td>\n",
              "      <td>female</td>\n",
              "      <td>38.0</td>\n",
              "      <td>1</td>\n",
              "      <td>0</td>\n",
              "      <td>PC 17599</td>\n",
              "      <td>71.2833</td>\n",
              "      <td>C85</td>\n",
              "      <td>C</td>\n",
              "    </tr>\n",
              "    <tr>\n",
              "      <th>2</th>\n",
              "      <td>3</td>\n",
              "      <td>1</td>\n",
              "      <td>3</td>\n",
              "      <td>Heikkinen, Miss. Laina</td>\n",
              "      <td>female</td>\n",
              "      <td>26.0</td>\n",
              "      <td>0</td>\n",
              "      <td>0</td>\n",
              "      <td>STON/O2. 3101282</td>\n",
              "      <td>7.9250</td>\n",
              "      <td>NaN</td>\n",
              "      <td>S</td>\n",
              "    </tr>\n",
              "    <tr>\n",
              "      <th>...</th>\n",
              "      <td>...</td>\n",
              "      <td>...</td>\n",
              "      <td>...</td>\n",
              "      <td>...</td>\n",
              "      <td>...</td>\n",
              "      <td>...</td>\n",
              "      <td>...</td>\n",
              "      <td>...</td>\n",
              "      <td>...</td>\n",
              "      <td>...</td>\n",
              "      <td>...</td>\n",
              "      <td>...</td>\n",
              "    </tr>\n",
              "    <tr>\n",
              "      <th>153</th>\n",
              "      <td>154</td>\n",
              "      <td>0</td>\n",
              "      <td>3</td>\n",
              "      <td>van Billiard, Mr. Austin Blyler</td>\n",
              "      <td>male</td>\n",
              "      <td>40.5</td>\n",
              "      <td>0</td>\n",
              "      <td>2</td>\n",
              "      <td>A/5. 851</td>\n",
              "      <td>14.5000</td>\n",
              "      <td>NaN</td>\n",
              "      <td>S</td>\n",
              "    </tr>\n",
              "    <tr>\n",
              "      <th>154</th>\n",
              "      <td>155</td>\n",
              "      <td>0</td>\n",
              "      <td>3</td>\n",
              "      <td>Olsen, Mr. Ole Martin</td>\n",
              "      <td>male</td>\n",
              "      <td>NaN</td>\n",
              "      <td>0</td>\n",
              "      <td>0</td>\n",
              "      <td>Fa 265302</td>\n",
              "      <td>7.3125</td>\n",
              "      <td>NaN</td>\n",
              "      <td>S</td>\n",
              "    </tr>\n",
              "    <tr>\n",
              "      <th>155</th>\n",
              "      <td>156</td>\n",
              "      <td>0</td>\n",
              "      <td>1</td>\n",
              "      <td>Williams, Mr. Charles Duane</td>\n",
              "      <td>male</td>\n",
              "      <td>51.0</td>\n",
              "      <td>0</td>\n",
              "      <td>1</td>\n",
              "      <td>PC 17597</td>\n",
              "      <td>61.3792</td>\n",
              "      <td>NaN</td>\n",
              "      <td>C</td>\n",
              "    </tr>\n",
              "  </tbody>\n",
              "</table>\n",
              "<p>156 rows × 12 columns</p>\n",
              "</div>"
            ],
            "text/plain": [
              "     PassengerId  Survived  Pclass  ...     Fare Cabin  Embarked\n",
              "0              1         0       3  ...   7.2500   NaN         S\n",
              "1              2         1       1  ...  71.2833   C85         C\n",
              "2              3         1       3  ...   7.9250   NaN         S\n",
              "..           ...       ...     ...  ...      ...   ...       ...\n",
              "153          154         0       3  ...  14.5000   NaN         S\n",
              "154          155         0       3  ...   7.3125   NaN         S\n",
              "155          156         0       1  ...  61.3792   NaN         C\n",
              "\n",
              "[156 rows x 12 columns]"
            ]
          },
          "metadata": {
            "tags": []
          },
          "execution_count": 10
        }
      ]
    },
    {
      "cell_type": "markdown",
      "metadata": {
        "id": "p0oDdz7UtWMu"
      },
      "source": [
        ""
      ]
    }
  ]
}